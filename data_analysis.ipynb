{
 "cells": [
  {
   "cell_type": "code",
   "execution_count": null,
   "metadata": {},
   "outputs": [],
   "source": [
    "%matplotlib inline\n",
    "%config InlineBackend.figure_format='svg'\n",
    "import matplotlib\n",
    "import numpy as np\n",
    "import matplotlib.pyplot as plt\n",
    "import matplotlib.animation as animation\n",
    "import pandas as pd\n",
    "import os\n",
    "# import chain\n",
    "\n",
    "from operator import attrgetter\n",
    "from matplotlib.colors import LinearSegmentedColormap\n",
    "from mpl_toolkits.axes_grid1.inset_locator import inset_axes\n",
    "from itertools import chain\n",
    "\n",
    "from os.path import isfile, join"
   ]
  },
  {
   "cell_type": "markdown",
   "metadata": {},
   "source": [
    "asdf"
   ]
  },
  {
   "cell_type": "code",
   "execution_count": null,
   "metadata": {},
   "outputs": [],
   "source": [
    "# These functions are used for data analysis.\n",
    "\n",
    "# these functions are used in determining the type\n",
    "# of data we are looking at (posthresh, neghold etc)\n",
    "def is_increasing(L):\n",
    "    return L[0] < L[len(L) - 1] and len(L) > 1\n",
    "def is_decreasing(L):\n",
    "    return L[0] > L[len(L) - 1] and len(L) > 1\n",
    "def non_increasing(L):\n",
    "    return all(x>=y for x, y in zip(L, L[1:]))\n",
    "def non_decreasing(L):\n",
    "    return all(x<=y for x, y in zip(L, L[1:]))\n",
    "def monotonic(L):\n",
    "    return non_increasing(L) or non_decreasing(L)\n",
    "def average(array):\n",
    "    return sum(array) / len(array)\n",
    "\n",
    "# this will return the type of data you give it\n",
    "# it takes an array of voltages and currents as arguments\n",
    "def sort_into_side(voltage, current):\n",
    "    if is_increasing(voltage) and is_increasing(current):\n",
    "        return \"posThresh\"\n",
    "    elif is_decreasing(voltage) and is_decreasing(current):\n",
    "        return \"posHold\"\n",
    "    elif is_decreasing(voltage) and is_increasing(current):\n",
    "        return \"negThresh\"\n",
    "    elif is_increasing(voltage) and is_decreasing(current):\n",
    "        return \"negHold\"\n",
    "    else: \n",
    "        print(\"???\")\n",
    "        # print(\"error determining type of data. V: \", voltage, \" I: \", current)\n",
    "\n",
    "def get_rand_id():\n",
    "    return np.random.randint(1000000000)\n",
    "\n"
   ]
  }
 ],
 "metadata": {
  "language_info": {
   "name": "python"
  },
  "orig_nbformat": 4
 },
 "nbformat": 4,
 "nbformat_minor": 2
}
